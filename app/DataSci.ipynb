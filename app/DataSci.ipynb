{
 "cells": [
  {
   "cell_type": "code",
   "execution_count": null,
   "id": "78b88220",
   "metadata": {},
   "outputs": [],
   "source": [
    "#join the owners duet session\n",
    "import syft as sy\n",
    "sy.VERBOSE = True\n",
    "duet = sy.join_duet(loopback=True)"
   ]
  },
  {
   "cell_type": "markdown",
   "id": "dafd1d9b",
   "metadata": {},
   "source": [
    "### Checkpoint 1. Return to Data Owner 1 "
   ]
  },
  {
   "cell_type": "code",
   "execution_count": null,
   "id": "cf5997fe",
   "metadata": {},
   "outputs": [],
   "source": [
    "#check the items currently in the duet store\n",
    "duet.store.pandas"
   ]
  },
  {
   "cell_type": "code",
   "execution_count": null,
   "id": "5d9c4fa6",
   "metadata": {},
   "outputs": [],
   "source": [
    "#store the item in duet1_ptr\n",
    "data1_ptr = duet.store[0]\n",
    "print(data1_ptr)"
   ]
  },
  {
   "cell_type": "code",
   "execution_count": null,
   "id": "a98b734d",
   "metadata": {},
   "outputs": [],
   "source": [
    "import torch\n",
    "import time"
   ]
  },
  {
   "cell_type": "code",
   "execution_count": null,
   "id": "6458bc91",
   "metadata": {},
   "outputs": [],
   "source": [
    "#set the input and output dimensions\n",
    "\n",
    "#size of each input data\n",
    "in_dim = 100\n",
    "#size of each output data\n",
    "out_dim = 100"
   ]
  },
  {
   "cell_type": "code",
   "execution_count": null,
   "id": "08a308be",
   "metadata": {},
   "outputs": [],
   "source": [
    "class SyNet(sy.Module):\n",
    "    def __init__(self, torch_ref):\n",
    "        super(SyNet, self).__init__(torch_ref=torch_ref)\n",
    "        #applies a linear transformation to the in/out dimensions\n",
    "        self.linear = self.torch_ref.nn.Linear(in_dim, out_dim)\n",
    "\n",
    "    def forward(self, x):\n",
    "        x = self.linear(x)\n",
    "        return x"
   ]
  },
  {
   "cell_type": "code",
   "execution_count": null,
   "id": "e07ff253",
   "metadata": {},
   "outputs": [],
   "source": [
    "#Send one copy of the model to each data owner or client and train remotely\n",
    "combined_model = SyNet(torch)"
   ]
  },
  {
   "cell_type": "code",
   "execution_count": null,
   "id": "f2de81a5",
   "metadata": {},
   "outputs": [],
   "source": [
    "def train(iterations, model, torch_ref, optim, data_ptr, target_ptr):\n",
    "    \n",
    "    losses = []\n",
    "    \n",
    "    for i in range(iterations):\n",
    "        \n",
    "        optim.zero_grad()\n",
    "        \n",
    "        output = model(data_ptr)\n",
    "\n",
    "        #uses MSE (Mean Squared Error), to calculate loss\n",
    "        loss = torch_ref.nn.functional.mse_loss(output, target_ptr)\n",
    "\n",
    "        loss_item = loss.item()\n",
    "\n",
    "        #send a request to get the actual value of the tensor from the Data Owner\n",
    "        loss_value = loss_item.get(\n",
    "                name=\"loss\",\n",
    "                reason=\"To evaluate training progress\",\n",
    "                request_block=True,\n",
    "                timeout_secs=5\n",
    "            )\n",
    "        if i % 10 == 0:\n",
    "            print(\"Epoch\", i, \"loss\", loss_value)\n",
    "        #append the loss value to the list\n",
    "        losses.append(loss_value)\n",
    "        loss.backward()\n",
    "        optim.step()\n",
    "    \n",
    "    print (\"Process took: \", time.time()-start, \" seconds\")\n",
    "    return losses"
   ]
  },
  {
   "cell_type": "code",
   "execution_count": null,
   "id": "381247b4",
   "metadata": {},
   "outputs": [],
   "source": [
    "import torch as th\n",
    "import numpy as np"
   ]
  },
  {
   "cell_type": "markdown",
   "id": "e8d2afcc",
   "metadata": {},
   "source": [
    "### Begin Training on Data Owner 1"
   ]
  },
  {
   "cell_type": "code",
   "execution_count": null,
   "id": "50d68ef7",
   "metadata": {},
   "outputs": [],
   "source": [
    "local_model1 = SyNet(torch)"
   ]
  },
  {
   "cell_type": "code",
   "execution_count": null,
   "id": "95424d65",
   "metadata": {},
   "outputs": [],
   "source": [
    "print(local_model1.parameters())"
   ]
  },
  {
   "cell_type": "code",
   "execution_count": null,
   "id": "0c1e6b76",
   "metadata": {},
   "outputs": [],
   "source": [
    "remote_model1 = local_model1.send(duet)"
   ]
  },
  {
   "cell_type": "code",
   "execution_count": null,
   "id": "33bf6358",
   "metadata": {},
   "outputs": [],
   "source": [
    "remote_torch1 = duet.torch\n",
    "params = remote_model1.parameters()\n",
    "optim1 = remote_torch1.optim.Adam(params=params, lr=0.1)"
   ]
  },
  {
   "cell_type": "code",
   "execution_count": null,
   "id": "18784f06",
   "metadata": {},
   "outputs": [],
   "source": [
    "from skimage.transform import resize\n",
    "from skimage.color import rgb2gray\n",
    "#from tqdm import tqdm\n",
    "import matplotlib.pyplot as plt\n",
    "import numpy as np\n",
    "import torch\n",
    "import os\n",
    "import imageio\n",
    "import cv2 as cv"
   ]
  },
  {
   "cell_type": "markdown",
   "id": "aae01bef",
   "metadata": {},
   "source": [
    "### Transform Target Data"
   ]
  },
  {
   "cell_type": "code",
   "execution_count": null,
   "id": "11f4c245",
   "metadata": {},
   "outputs": [],
   "source": [
    "#loop through the directory and transform to tensor\n",
    "path = \"/Users/danielcastillo/Documents/senior-project/Data/CATS_DOGS/train/CAT\"\n",
    "\n",
    "#transform the images to a list of Tensors\n",
    "transform(path)"
   ]
  },
  {
   "cell_type": "code",
   "execution_count": null,
   "id": "ee667c28",
   "metadata": {},
   "outputs": [],
   "source": [
    "#change the list of tensors into a single tensor\n",
    "target1_ptr = torch.stack(arr)\n",
    "#change the tensor data type from Float64 to Float32\n",
    "target1_ptr = target1_ptr.type(torch.FloatTensor)"
   ]
  },
  {
   "cell_type": "code",
   "execution_count": null,
   "id": "a288f7e5",
   "metadata": {},
   "outputs": [],
   "source": [
    "print(target1_ptr)\n",
    "print(target1_ptr.shape)"
   ]
  },
  {
   "cell_type": "markdown",
   "id": "2d8bc273",
   "metadata": {},
   "source": [
    "### Start training on Data Owner 1 data"
   ]
  },
  {
   "cell_type": "code",
   "execution_count": null,
   "id": "7ea9fcec",
   "metadata": {
    "scrolled": false
   },
   "outputs": [],
   "source": [
    "#variable to keep track of training time\n",
    "start = time.time()\n",
    "\n",
    "iteration = 100\n",
    "losses = train(iteration, remote_model1, remote_torch1, optim1, data1_ptr, target1_ptr)"
   ]
  },
  {
   "cell_type": "markdown",
   "id": "48974b16",
   "metadata": {},
   "source": [
    "# End of Calculation for DATA OWNER 1"
   ]
  },
  {
   "cell_type": "code",
   "execution_count": null,
   "id": "5f6701ef",
   "metadata": {},
   "outputs": [],
   "source": [
    "#join the owners duet session\n",
    "import syft as sy\n",
    "sy.VERBOSE = True\n",
    "duet2 = sy.join_duet(loopback=True)"
   ]
  },
  {
   "cell_type": "markdown",
   "id": "0216c34b",
   "metadata": {},
   "source": [
    "## checkpoint 2. return to Data Owner 2"
   ]
  },
  {
   "cell_type": "code",
   "execution_count": null,
   "id": "b019d3a6",
   "metadata": {},
   "outputs": [],
   "source": [
    "#check the items in the duet store\n",
    "duet2.store.pandas"
   ]
  },
  {
   "cell_type": "code",
   "execution_count": null,
   "id": "527b532f",
   "metadata": {},
   "outputs": [],
   "source": [
    "#store the item in duet1_ptr\n",
    "data2_ptr = duet2.store[0]\n",
    "print(data2_ptr)"
   ]
  },
  {
   "cell_type": "code",
   "execution_count": null,
   "id": "c1de61b9",
   "metadata": {},
   "outputs": [],
   "source": [
    "local_model2 = SyNet(torch)"
   ]
  },
  {
   "cell_type": "code",
   "execution_count": null,
   "id": "1a04615b",
   "metadata": {},
   "outputs": [],
   "source": [
    "print(local_model2.parameters())"
   ]
  },
  {
   "cell_type": "code",
   "execution_count": null,
   "id": "fbfe1b4a",
   "metadata": {},
   "outputs": [],
   "source": [
    "remote_model2 = local_model2.send(duet2)"
   ]
  },
  {
   "cell_type": "code",
   "execution_count": null,
   "id": "d6319d7c",
   "metadata": {},
   "outputs": [],
   "source": [
    "remote_torch2 = duet2.torch\n",
    "params = remote_model2.parameters()\n",
    "optim2 = remote_torch2.optim.Adam(params=params, lr=0.1)"
   ]
  },
  {
   "cell_type": "markdown",
   "id": "71798b06",
   "metadata": {},
   "source": [
    "### transform target data for Data Owner 2"
   ]
  },
  {
   "cell_type": "code",
   "execution_count": null,
   "id": "f84b420b",
   "metadata": {},
   "outputs": [],
   "source": [
    "#loop through the directory and transform to tensor\n",
    "path = \"/Users/danielcastillo/Documents/senior-project/Data/CATS_DOGS/train/DOG\"\n",
    "\n",
    "#transform the images to a list of Tensors\n",
    "transform(path)"
   ]
  },
  {
   "cell_type": "code",
   "execution_count": null,
   "id": "4a379985",
   "metadata": {},
   "outputs": [],
   "source": [
    "#change the list of tensors into a single tensor\n",
    "target2_ptr = torch.stack(arr)\n",
    "#change the tensor data type from Float64 to Float32\n",
    "target2_ptr = target2_ptr.type(torch.FloatTensor)"
   ]
  },
  {
   "cell_type": "code",
   "execution_count": null,
   "id": "b17bc74b",
   "metadata": {},
   "outputs": [],
   "source": [
    "print(target2_ptr)\n",
    "print(target2_ptr.shape)"
   ]
  },
  {
   "cell_type": "markdown",
   "id": "8bff8970",
   "metadata": {},
   "source": [
    "### Start training on Data Owner 2 data"
   ]
  },
  {
   "cell_type": "code",
   "execution_count": null,
   "id": "ca171216",
   "metadata": {},
   "outputs": [],
   "source": [
    "#variable for tracking training time\n",
    "start = time.time()\n",
    "\n",
    "iteration = 100\n",
    "losses = train(iteration, remote_model2, remote_torch2, optim2, data2_ptr, target2_ptr)"
   ]
  },
  {
   "cell_type": "markdown",
   "id": "9694b088",
   "metadata": {},
   "source": [
    "# End of Calculation for Data Owner 2"
   ]
  },
  {
   "cell_type": "markdown",
   "id": "097ef9f9",
   "metadata": {},
   "source": [
    "# Definition for transform()"
   ]
  },
  {
   "cell_type": "code",
   "execution_count": null,
   "id": "0604219a",
   "metadata": {},
   "outputs": [],
   "source": [
    "def transform(path):\n",
    "    #declare a new list\n",
    "    arr = []\n",
    "    \n",
    "    tqdm().pandas()\n",
    "    i = 0\n",
    "\n",
    "\n",
    "    for pic in tqdm(os.scandir(path)):\n",
    "        #control the number of images to transform\n",
    "        if i < 100:\n",
    "            #check if file is of valid type \n",
    "            if (pic.path.endswith(\".jpeg\") or pic.path.endswith(\".jpg\")) and pic.is_file():\n",
    "                #read the image\n",
    "                picture = cv.imread(pic.path)\n",
    "                if(type(picture) != None):\n",
    "                    #resize the picture to 10 x 10\n",
    "                    picture = resize(picture, (10,10), mode='constant', anti_aliasing=True)\n",
    "                    #change the picture to gray scale\n",
    "                    picture = rgb2gray(picture)\n",
    "                    #transform the picture to a tensor\n",
    "                    Tensor = torch.tensor(picture)\n",
    "                    Tensor = Tensor.flatten()\n",
    "                    #append the tensor to the list\n",
    "                    arr.append(Tensor)\n",
    "                else:\n",
    "                    #this means that the picture was NoneType\n",
    "                    print(\"not added to the list: \", i)\n",
    "                    #skip iteration\n",
    "                    continue\n",
    "        i+=1 "
   ]
  }
 ],
 "metadata": {
  "kernelspec": {
   "display_name": "Python 3",
   "language": "python",
   "name": "python3"
  },
  "language_info": {
   "codemirror_mode": {
    "name": "ipython",
    "version": 3
   },
   "file_extension": ".py",
   "mimetype": "text/x-python",
   "name": "python",
   "nbconvert_exporter": "python",
   "pygments_lexer": "ipython3",
   "version": "3.8.8"
  }
 },
 "nbformat": 4,
 "nbformat_minor": 5
}
