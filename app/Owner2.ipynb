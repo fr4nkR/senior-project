{
 "cells": [
  {
   "cell_type": "markdown",
   "id": "8c0bb9b8",
   "metadata": {},
   "source": [
    "# Owner 2"
   ]
  },
  {
   "cell_type": "markdown",
   "id": "0cbe5891",
   "metadata": {},
   "source": [
    "## Initial Setup"
   ]
  },
  {
   "cell_type": "code",
   "execution_count": null,
   "id": "5d133132",
   "metadata": {},
   "outputs": [],
   "source": [
    "#import packages that allow for image tranformations and transform to Tensor\n",
    "from skimage.transform import resize\n",
    "from skimage.color import rgb2gray\n",
    "import torch\n",
    "import os\n",
    "import imageio\n",
    "import cv2 as cv\n",
    "from tqdm.notebook import tqdm"
   ]
  },
  {
   "cell_type": "code",
   "execution_count": null,
   "id": "aad7e7ec",
   "metadata": {},
   "outputs": [],
   "source": [
    "#loop through the directory and transform to tensor\n",
    "path = \"/Users/danielcastillo/Documents/senior-project/Data/CATS_DOGS/test/DOG\"\n",
    "\n",
    "#transform the list of images to a list of Tensors\n",
    "transform(path)"
   ]
  },
  {
   "cell_type": "code",
   "execution_count": null,
   "id": "c5db8994",
   "metadata": {},
   "outputs": [],
   "source": [
    "#Create a new duet session\n",
    "import syft as sy\n",
    "sy.VERBOSE = False\n",
    "duet = sy.duet(loopback = True)"
   ]
  },
  {
   "cell_type": "markdown",
   "id": "f41dc603",
   "metadata": {},
   "source": [
    "## Wait! Run on Data Scientists at Checkpoint 2"
   ]
  },
  {
   "cell_type": "markdown",
   "id": "5875ce06",
   "metadata": {},
   "source": [
    "### checkpoint 2"
   ]
  },
  {
   "cell_type": "code",
   "execution_count": null,
   "id": "46e40b3c",
   "metadata": {},
   "outputs": [],
   "source": [
    "import tensorflow as tf\n",
    "#change the list of tensors into a single tensor\n",
    "stacked = torch.stack(arr)\n",
    "\n",
    "#change the tensor data type from Float64 to Float32\n",
    "stacked = stacked.type(torch.FloatTensor)"
   ]
  },
  {
   "cell_type": "code",
   "execution_count": null,
   "id": "0626b08c",
   "metadata": {},
   "outputs": [],
   "source": [
    "#assign a tag to the image\n",
    "image = stacked.tag(\"test dogs\")\n",
    "#assign a description\n",
    "image = stacked.describe(\"tensor data\")\n",
    "\n",
    "#send the pointer through duet\n",
    "image_ptr = image.send(duet, searchable=True)"
   ]
  },
  {
   "cell_type": "code",
   "execution_count": null,
   "id": "073bb31d",
   "metadata": {},
   "outputs": [],
   "source": [
    "#check all the pointers in the duet store\n",
    "duet.store.pandas"
   ]
  },
  {
   "cell_type": "code",
   "execution_count": null,
   "id": "b49fb23d",
   "metadata": {},
   "outputs": [],
   "source": [
    "#add a hadler to accept any request with the name \"loss\"\n",
    "duet.requests.add_handler(\n",
    "    name=\"loss\",\n",
    "    action=\"accept\",\n",
    "    timeout_secs=-1,  # no timeout\n",
    "    print_local=True  # print the result in your notebook\n",
    ")"
   ]
  },
  {
   "cell_type": "code",
   "execution_count": null,
   "id": "e49f5854",
   "metadata": {},
   "outputs": [],
   "source": [
    "#add a hadler to accept any request with the name \"params\"\n",
    "duet.requests.add_handler(\n",
    "    name=\"params\",\n",
    "    action=\"accept\",\n",
    "    timeout_secs=-1,  # no timeout\n",
    "    print_local=True  # print the result in your notebook\n",
    ")"
   ]
  },
  {
   "cell_type": "code",
   "execution_count": null,
   "id": "904f303d",
   "metadata": {},
   "outputs": [],
   "source": [
    "#add a hadler to accept any request with the name \"model_download\"\n",
    "duet.requests.add_handler(\n",
    "    name=\"model_download\",\n",
    "    action=\"accept\",\n",
    "    timeout_secs=-1,  # no timeout\n",
    "    print_local=True  # print the result in your notebook\n",
    ")"
   ]
  },
  {
   "cell_type": "markdown",
   "id": "be330bee",
   "metadata": {},
   "source": [
    "# Definition for transform()"
   ]
  },
  {
   "cell_type": "code",
   "execution_count": null,
   "id": "e41adff4",
   "metadata": {},
   "outputs": [],
   "source": [
    "def transform(path):\n",
    "    #declare a new list\n",
    "    arr = []\n",
    "    \n",
    "    tqdm().pandas()\n",
    "    i = 0\n",
    "\n",
    "\n",
    "    for pic in tqdm(os.scandir(path)):\n",
    "        #control the number of images to transform\n",
    "        if i < 100:\n",
    "            #check if file is of valid type \n",
    "            if (pic.path.endswith(\".jpeg\") or pic.path.endswith(\".jpg\")) and pic.is_file():\n",
    "                #read the image\n",
    "                picture = cv.imread(pic.path)\n",
    "                if(type(picture) != None):\n",
    "                    #resize the picture to 10 x 10\n",
    "                    picture = resize(picture, (10,10), mode='constant', anti_aliasing=True)\n",
    "                    #change the picture to gray scale\n",
    "                    picture = rgb2gray(picture)\n",
    "                    #transform the picture to a tensor\n",
    "                    Tensor = torch.tensor(picture)\n",
    "                    Tensor = Tensor.flatten()\n",
    "                    #append the tensor to the list\n",
    "                    arr.append(Tensor)\n",
    "                else:\n",
    "                    #this means that the picture was NoneType\n",
    "                    print(\"not added to the list: \", i)\n",
    "                    #skip iteration\n",
    "                    continue\n",
    "        i+=1"
   ]
  }
 ],
 "metadata": {
  "kernelspec": {
   "display_name": "Python 3",
   "language": "python",
   "name": "python3"
  },
  "language_info": {
   "codemirror_mode": {
    "name": "ipython",
    "version": 3
   },
   "file_extension": ".py",
   "mimetype": "text/x-python",
   "name": "python",
   "nbconvert_exporter": "python",
   "pygments_lexer": "ipython3",
   "version": "3.8.8"
  }
 },
 "nbformat": 4,
 "nbformat_minor": 5
}
